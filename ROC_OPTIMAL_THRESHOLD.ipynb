{
 "cells": [
  {
   "cell_type": "code",
   "execution_count": 2,
   "metadata": {},
   "outputs": [],
   "source": [
    "import numpy as np\n",
    "import pandas as pd\n",
    "import matplotlib.pyplot as plt\n",
    "import seaborn as sns\n",
    "from sklearn.datasets import make_classificationcation"
   ]
  },
  {
   "cell_type": "code",
   "execution_count": 7,
   "metadata": {},
   "outputs": [],
   "source": [
    "from sklearn.model_selection import train_test_split\n",
    "x, y = make_classification(n_samples = 2000, n_classes =2, weights=[1,1], random_state=1)"
   ]
  },
  {
   "cell_type": "code",
   "execution_count": 8,
   "metadata": {},
   "outputs": [
    {
     "data": {
      "text/plain": [
       "(2000, 20)"
      ]
     },
     "execution_count": 8,
     "metadata": {},
     "output_type": "execute_result"
    }
   ],
   "source": [
    "x.shape"
   ]
  },
  {
   "cell_type": "code",
   "execution_count": 9,
   "metadata": {},
   "outputs": [
    {
     "data": {
      "text/plain": [
       "(2000,)"
      ]
     },
     "execution_count": 9,
     "metadata": {},
     "output_type": "execute_result"
    }
   ],
   "source": [
    "y.shape"
   ]
  },
  {
   "cell_type": "code",
   "execution_count": 10,
   "metadata": {},
   "outputs": [],
   "source": [
    "x_train, x_test, y_train, y_test = train_test_split(x, y, test_size=0.3, random_state=1)"
   ]
  },
  {
   "cell_type": "code",
   "execution_count": 11,
   "metadata": {},
   "outputs": [],
   "source": [
    "from sklearn.metrics import roc_curve\n",
    "from sklearn.metrics import roc_auc_score"
   ]
  },
  {
   "cell_type": "code",
   "execution_count": 13,
   "metadata": {},
   "outputs": [
    {
     "name": "stdout",
     "output_type": "stream",
     "text": [
      "train_roc_curve: 1.0\n",
      "test_roc_curve: 0.9832333333333333\n"
     ]
    }
   ],
   "source": [
    "from sklearn.ensemble import RandomForestClassifier\n",
    "rf = RandomForestClassifier()\n",
    "rf.fit(x_train, y_train)\n",
    "\n",
    "pred = rf.predict_proba(x_train)\n",
    "\n",
    "print(\"train_roc_curve:\", roc_auc_score(y_train, pred[:,1]))\n",
    "\n",
    "pred1 = rf.predict_proba(x_test)\n",
    "\n",
    "print(\"test_roc_curve:\", roc_auc_score( y_test, pred1[:,1]))"
   ]
  },
  {
   "cell_type": "code",
   "execution_count": 14,
   "metadata": {},
   "outputs": [
    {
     "name": "stdout",
     "output_type": "stream",
     "text": [
      "train_roc_curve: 0.9863568922694498\n",
      "test_roc_curve: 0.9832333333333333\n"
     ]
    }
   ],
   "source": [
    "from sklearn.linear_model import LogisticRegression\n",
    "\n",
    "ls = LogisticRegression()\n",
    "ls.fit(x_train, y_train)\n",
    "\n",
    "pred = ls.predict_proba(x_train)\n",
    "\n",
    "print(\"train_roc_curve:\", roc_auc_score(y_train, pred[:,1]))\n",
    "\n",
    "pred1 = rf.predict_proba(x_test)\n",
    "\n",
    "print(\"test_roc_curve:\", roc_auc_score( y_test, pred1[:,1]))\n"
   ]
  },
  {
   "cell_type": "code",
   "execution_count": 16,
   "metadata": {},
   "outputs": [
    {
     "name": "stdout",
     "output_type": "stream",
     "text": [
      "train_roc_curve: 0.9975081174960356\n",
      "test_roc_curve: 0.9826111111111111\n"
     ]
    }
   ],
   "source": [
    "from sklearn.ensemble import AdaBoostClassifier\n",
    "\n",
    "ac = AdaBoostClassifier()\n",
    "ac.fit(x_train, y_train)\n",
    "\n",
    "pred = ac.predict_proba(x_train)\n",
    "\n",
    "print(\"train_roc_curve:\", roc_auc_score(y_train, pred[:,1]))\n",
    "\n",
    "pred1 = ac.predict_proba(x_test)\n",
    "\n",
    "print(\"test_roc_curve:\", roc_auc_score( y_test, pred1[:,1]))"
   ]
  },
  {
   "cell_type": "code",
   "execution_count": 17,
   "metadata": {},
   "outputs": [
    {
     "name": "stdout",
     "output_type": "stream",
     "text": [
      "train_roc_curve: 0.981670071491109\n",
      "test_roc_curve: 0.9426111111111111\n"
     ]
    }
   ],
   "source": [
    "from sklearn.neighbors import KNeighborsClassifier\n",
    "\n",
    "knn = KNeighborsClassifier()\n",
    "knn.fit(x_train, y_train)\n",
    "\n",
    "pred = knn.predict_proba(x_train)\n",
    "\n",
    "print(\"train_roc_curve:\", roc_auc_score(y_train, pred[:,1]))\n",
    "\n",
    "pred1 = knn.predict_proba(x_test)\n",
    "\n",
    "print(\"test_roc_curve:\", roc_auc_score( y_test, pred1[:,1]))"
   ]
  },
  {
   "cell_type": "code",
   "execution_count": 19,
   "metadata": {},
   "outputs": [
    {
     "name": "stdout",
     "output_type": "stream",
     "text": [
      "ensemble test roc-auc: 0.9850111111111112\n"
     ]
    }
   ],
   "source": [
    "pred = []\n",
    "for model in [rf, ls, ac, knn]:\n",
    "    pred.append(pd.Series(model.predict_proba(x_test)[:,1]))\n",
    "final_pred = pd.concat(pred,axis = 1).mean(axis = 1)\n",
    "print(\"ensemble test roc-auc:\", roc_auc_score(y_test, final_pred))"
   ]
  },
  {
   "cell_type": "code",
   "execution_count": 35,
   "metadata": {},
   "outputs": [
    {
     "data": {
      "text/plain": [
       "0    0.887762\n",
       "1    0.118323\n",
       "2    0.818783\n",
       "3    0.747853\n",
       "4    0.537447\n",
       "dtype: float64"
      ]
     },
     "execution_count": 35,
     "metadata": {},
     "output_type": "execute_result"
    }
   ],
   "source": [
    "final_pred.head()"
   ]
  },
  {
   "cell_type": "code",
   "execution_count": 22,
   "metadata": {},
   "outputs": [],
   "source": [
    "fpr, tpr, threshold = roc_curve(y_test, final_pred)"
   ]
  },
  {
   "cell_type": "code",
   "execution_count": 23,
   "metadata": {},
   "outputs": [
    {
     "data": {
      "text/plain": [
       "array([1.91188114, 0.91188114, 0.8985034 , 0.89827475, 0.80202418,\n",
       "       0.8005558 , 0.77925879, 0.77821156, 0.76303202, 0.76287124,\n",
       "       0.72960041, 0.72887362, 0.70951656, 0.70393711, 0.68101868,\n",
       "       0.67493537, 0.61029968, 0.60550386, 0.60462652, 0.59425354,\n",
       "       0.5940152 , 0.59236186, 0.5771569 , 0.57389283, 0.55042732,\n",
       "       0.54219563, 0.53595371, 0.53377948, 0.52865858, 0.47866892,\n",
       "       0.45990225, 0.42722765, 0.4271034 , 0.37684818, 0.37629719,\n",
       "       0.34933098, 0.34586612, 0.24901541, 0.24646893, 0.23348126,\n",
       "       0.23140421, 0.19983682, 0.19848417, 0.12307604, 0.1228351 ,\n",
       "       0.10498954])"
      ]
     },
     "execution_count": 23,
     "metadata": {},
     "output_type": "execute_result"
    }
   ],
   "source": [
    "threshold"
   ]
  },
  {
   "cell_type": "code",
   "execution_count": 29,
   "metadata": {},
   "outputs": [],
   "source": [
    "def plot_roc_curve(fpr, tpr):\n",
    "    plt.plot(fpr, tpr, color='orange', label='roc')\n",
    "    plt.plot([0,1],[0,1], color = 'darkblue', linestyle='--')\n",
    "    plt.xlabel(\"false positive rate\")\n",
    "    plt.ylabel(\"true positive rate\")\n",
    "    plt.title(\"receiver operating characteristic (roc) curve\")\n",
    "    plt.legend()\n",
    "    plt.show()"
   ]
  },
  {
   "cell_type": "code",
   "execution_count": 30,
   "metadata": {},
   "outputs": [
    {
     "data": {
      "image/png": "[encoded data removed]",
      "text/plain": [
       "<matplotlib.figure.Figure at 0x1d7594b390>"
      ]
     },
     "metadata": {},
     "output_type": "display_data"
    }
   ],
   "source": [
    "plot_roc_curve(fpr,tpr)"
   ]
  },
  {
   "cell_type": "code",
   "execution_count": 34,
   "metadata": {},
   "outputs": [
    {
     "data": {
      "text/html": [
       "<div>\n",
       "<style scoped>\n",
       "    .dataframe tbody tr th:only-of-type {\n",
       "        vertical-align: middle;\n",
       "    }\n",
       "\n",
       "    .dataframe tbody tr th {\n",
       "        vertical-align: top;\n",
       "    }\n",
       "\n",
       "    .dataframe thead th {\n",
       "        text-align: right;\n",
       "    }\n",
       "</style>\n",
       "<table border=\"1\" class=\"dataframe\">\n",
       "  <thead>\n",
       "    <tr style=\"text-align: right;\">\n",
       "      <th></th>\n",
       "      <th>threshold</th>\n",
       "      <th>Accuracy</th>\n",
       "    </tr>\n",
       "  </thead>\n",
       "  <tbody>\n",
       "    <tr>\n",
       "      <th>31</th>\n",
       "      <td>0.427228</td>\n",
       "      <td>0.961667</td>\n",
       "    </tr>\n",
       "    <tr>\n",
       "      <th>32</th>\n",
       "      <td>0.427103</td>\n",
       "      <td>0.960000</td>\n",
       "    </tr>\n",
       "    <tr>\n",
       "      <th>30</th>\n",
       "      <td>0.459902</td>\n",
       "      <td>0.960000</td>\n",
       "    </tr>\n",
       "    <tr>\n",
       "      <th>29</th>\n",
       "      <td>0.478669</td>\n",
       "      <td>0.958333</td>\n",
       "    </tr>\n",
       "    <tr>\n",
       "      <th>27</th>\n",
       "      <td>0.533779</td>\n",
       "      <td>0.958333</td>\n",
       "    </tr>\n",
       "  </tbody>\n",
       "</table>\n",
       "</div>"
      ],
      "text/plain": [
       "    threshold  Accuracy\n",
       "31   0.427228  0.961667\n",
       "32   0.427103  0.960000\n",
       "30   0.459902  0.960000\n",
       "29   0.478669  0.958333\n",
       "27   0.533779  0.958333"
      ]
     },
     "execution_count": 34,
     "metadata": {},
     "output_type": "execute_result"
    }
   ],
   "source": [
    "from sklearn.metrics import accuracy_score\n",
    "accur = []\n",
    "for thre in threshold:\n",
    "    y_pred = np.where(final_pred>thre,1,0)\n",
    "    accur.append(accuracy_score(y_test, y_pred, normalize = True))\n",
    "    \n",
    "accur = pd.concat([pd.Series(threshold), pd.Series(accur)], axis = 1)\n",
    "accur.columns = ['threshold', 'Accuracy']\n",
    "accur.sort_values(by='Accuracy', ascending=False, inplace=True)\n",
    "accur.head()"
   ]
  },
  {
   "cell_type": "code",
   "execution_count": null,
   "metadata": {},
   "outputs": [],
   "source": []
  }
 ],
 "metadata": {
  "kernelspec": {
   "display_name": "Python 3",
   "language": "python",
   "name": "python3"
  },
  "language_info": {
   "codemirror_mode": {
    "name": "ipython",
    "version": 3
   },
   "file_extension": ".py",
   "mimetype": "text/x-python",
   "name": "python",
   "nbconvert_exporter": "python",
   "pygments_lexer": "ipython3",
   "version": "3.6.4"
  }
 },
 "nbformat": 4,
 "nbformat_minor": 2
}
